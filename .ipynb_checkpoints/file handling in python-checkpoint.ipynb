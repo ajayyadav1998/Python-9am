{
 "cells": [
  {
   "cell_type": "code",
   "execution_count": 1,
   "metadata": {},
   "outputs": [],
   "source": [
    "file = open('GIT_COMMANDS.txt')"
   ]
  },
  {
   "cell_type": "code",
   "execution_count": 2,
   "metadata": {},
   "outputs": [
    {
     "data": {
      "text/plain": [
       "<_io.TextIOWrapper name='GIT_COMMANDS.txt' mode='r' encoding='cp1252'>"
      ]
     },
     "execution_count": 2,
     "metadata": {},
     "output_type": "execute_result"
    }
   ],
   "source": [
    "file"
   ]
  },
  {
   "cell_type": "code",
   "execution_count": 3,
   "metadata": {},
   "outputs": [
    {
     "name": "stdout",
     "output_type": "stream",
     "text": [
      "['_CHUNK_SIZE', '__class__', '__del__', '__delattr__', '__dict__', '__dir__', '__doc__', '__enter__', '__eq__', '__exit__', '__format__', '__ge__', '__getattribute__', '__getstate__', '__gt__', '__hash__', '__init__', '__init_subclass__', '__iter__', '__le__', '__lt__', '__ne__', '__new__', '__next__', '__reduce__', '__reduce_ex__', '__repr__', '__setattr__', '__sizeof__', '__str__', '__subclasshook__', '_checkClosed', '_checkReadable', '_checkSeekable', '_checkWritable', '_finalizing', 'buffer', 'close', 'closed', 'detach', 'encoding', 'errors', 'fileno', 'flush', 'isatty', 'line_buffering', 'mode', 'name', 'newlines', 'read', 'readable', 'readline', 'readlines', 'reconfigure', 'seek', 'seekable', 'tell', 'truncate', 'writable', 'write', 'write_through', 'writelines']\n"
     ]
    }
   ],
   "source": [
    "print(dir(file))"
   ]
  },
  {
   "cell_type": "code",
   "execution_count": 5,
   "metadata": {},
   "outputs": [
    {
     "data": {
      "text/plain": [
       "0"
      ]
     },
     "execution_count": 5,
     "metadata": {},
     "output_type": "execute_result"
    }
   ],
   "source": [
    "file.tell()"
   ]
  },
  {
   "cell_type": "code",
   "execution_count": 7,
   "metadata": {},
   "outputs": [
    {
     "name": "stdout",
     "output_type": "stream",
     "text": [
      "\n"
     ]
    }
   ],
   "source": [
    "print(file.read())"
   ]
  },
  {
   "cell_type": "code",
   "execution_count": 8,
   "metadata": {},
   "outputs": [
    {
     "data": {
      "text/plain": [
       "0"
      ]
     },
     "execution_count": 8,
     "metadata": {},
     "output_type": "execute_result"
    }
   ],
   "source": [
    "file.seek(0)"
   ]
  },
  {
   "cell_type": "code",
   "execution_count": 9,
   "metadata": {},
   "outputs": [
    {
     "name": "stdout",
     "output_type": "stream",
     "text": [
      "first of all create a repository on your git hub account\n",
      "\n",
      "than open powershell and go to your code folder\n",
      "\n",
      "#\n",
      "#git init --> it initlize your current folder  as a git repository\n",
      "# \n",
      "vim README.md --> overview or discreption of your repository\n",
      "# \n",
      "\n",
      "#git config --global user.name gitusername\n",
      "# \n",
      "\n",
      "#git config --global user.email git email address\n",
      "config command will configure your credentials over git repository and if you\n",
      " used --global it will apply to all repository current or future\n",
      "\n",
      "#\n",
      "#git add . --> it will add all files from current repository\n",
      "#\n",
      "#git status --> staging area, where we can which files are added and which are\n",
      "still to be added at git staging area\n",
      "#\n",
      "#git commit -m \"any message regarding changes\" --> This will create a version\n",
      " for your git repository, every time you commit something you are creating a \n",
      "new version of your code\n",
      "\n",
      "\n",
      "#git remote add origin https://gihub.com/username/project_name.git --> it will\n",
      "link your online repository to offline repository with name origin, so every\n",
      "time you write origin in this current directory meas you are reffering to\n",
      "https://github.com/username/project-name.git\n",
      "\n",
      "\n",
      "#git push origin master --> It will upload all of your local data files to\n",
      "your remote repository ( internet connection required )\n",
      "\n",
      "\n",
      "#git pull origin master --> It will fetch all the changes that has been\n",
      "commited to your directory  \n",
      "\n",
      "\n",
      "#git pull origin masrer --allow-unrelated-histories\n"
     ]
    }
   ],
   "source": [
    "print(file.read())"
   ]
  },
  {
   "cell_type": "code",
   "execution_count": 10,
   "metadata": {},
   "outputs": [],
   "source": [
    "file.close()"
   ]
  },
  {
   "cell_type": "code",
   "execution_count": 11,
   "metadata": {},
   "outputs": [],
   "source": [
    "f = open('GIT_COMMANDS.txt')"
   ]
  },
  {
   "cell_type": "code",
   "execution_count": 12,
   "metadata": {},
   "outputs": [
    {
     "data": {
      "text/plain": [
       "<_io.TextIOWrapper name='GIT_COMMANDS.txt' mode='r' encoding='cp1252'>"
      ]
     },
     "execution_count": 12,
     "metadata": {},
     "output_type": "execute_result"
    }
   ],
   "source": [
    "f"
   ]
  },
  {
   "cell_type": "code",
   "execution_count": 14,
   "metadata": {},
   "outputs": [
    {
     "data": {
      "text/plain": [
       "0"
      ]
     },
     "execution_count": 14,
     "metadata": {},
     "output_type": "execute_result"
    }
   ],
   "source": [
    "f.tell()"
   ]
  },
  {
   "cell_type": "code",
   "execution_count": 16,
   "metadata": {},
   "outputs": [
    {
     "data": {
      "text/plain": [
       "'first of all create a repository on your git hub account\\n\\nthan open powershell and go to your code folder\\n\\n#\\n#git init --> it initlize your current folder  as a git repository\\n# \\nvim README.md --> overview or discreption of your repository\\n# \\n\\n#git config --global user.name gitusername\\n# \\n\\n#git config --global user.email git email address\\nconfig command will configure your credentials over git repository and if you\\n used --global it will apply to all repository current or future\\n\\n#\\n#git add . --> it will add all files from current repository\\n#\\n#git status --> staging area, where we can which files are added and which are\\nstill to be added at git staging area\\n#\\n#git commit -m \"any message regarding changes\" --> This will create a version\\n for your git repository, every time you commit something you are creating a \\nnew version of your code\\n\\n\\n#git remote add origin https://gihub.com/username/project_name.git --> it will\\nlink your online repository to offline repository with name origin, so every\\ntime you write origin in this current directory meas you are reffering to\\nhttps://github.com/username/project-name.git\\n\\n\\n#git push origin master --> It will upload all of your local data files to\\nyour remote repository ( internet connection required )\\n\\n\\n#git pull origin master --> It will fetch all the changes that has been\\ncommited to your directory  \\n\\n\\n#git pull origin masrer --allow-unrelated-histories'"
      ]
     },
     "execution_count": 16,
     "metadata": {},
     "output_type": "execute_result"
    }
   ],
   "source": [
    "f.read()"
   ]
  },
  {
   "cell_type": "code",
   "execution_count": 17,
   "metadata": {},
   "outputs": [
    {
     "data": {
      "text/plain": [
       "''"
      ]
     },
     "execution_count": 17,
     "metadata": {},
     "output_type": "execute_result"
    }
   ],
   "source": [
    "f.read()"
   ]
  },
  {
   "cell_type": "code",
   "execution_count": 18,
   "metadata": {},
   "outputs": [
    {
     "data": {
      "text/plain": [
       "0"
      ]
     },
     "execution_count": 18,
     "metadata": {},
     "output_type": "execute_result"
    }
   ],
   "source": [
    "f.seek(0)"
   ]
  },
  {
   "cell_type": "code",
   "execution_count": 19,
   "metadata": {},
   "outputs": [
    {
     "data": {
      "text/plain": [
       "'first of all create a repository on your git hub account\\n\\nthan open powershell and go to your code folder\\n\\n#\\n#git init --> it initlize your current folder  as a git repository\\n# \\nvim README.md --> overview or discreption of your repository\\n# \\n\\n#git config --global user.name gitusername\\n# \\n\\n#git config --global user.email git email address\\nconfig command will configure your credentials over git repository and if you\\n used --global it will apply to all repository current or future\\n\\n#\\n#git add . --> it will add all files from current repository\\n#\\n#git status --> staging area, where we can which files are added and which are\\nstill to be added at git staging area\\n#\\n#git commit -m \"any message regarding changes\" --> This will create a version\\n for your git repository, every time you commit something you are creating a \\nnew version of your code\\n\\n\\n#git remote add origin https://gihub.com/username/project_name.git --> it will\\nlink your online repository to offline repository with name origin, so every\\ntime you write origin in this current directory meas you are reffering to\\nhttps://github.com/username/project-name.git\\n\\n\\n#git push origin master --> It will upload all of your local data files to\\nyour remote repository ( internet connection required )\\n\\n\\n#git pull origin master --> It will fetch all the changes that has been\\ncommited to your directory  \\n\\n\\n#git pull origin masrer --allow-unrelated-histories'"
      ]
     },
     "execution_count": 19,
     "metadata": {},
     "output_type": "execute_result"
    }
   ],
   "source": [
    "f.read()"
   ]
  },
  {
   "cell_type": "code",
   "execution_count": 20,
   "metadata": {},
   "outputs": [
    {
     "data": {
      "text/plain": [
       "0"
      ]
     },
     "execution_count": 20,
     "metadata": {},
     "output_type": "execute_result"
    }
   ],
   "source": [
    "f.seek(0)"
   ]
  },
  {
   "cell_type": "code",
   "execution_count": 21,
   "metadata": {},
   "outputs": [
    {
     "name": "stdout",
     "output_type": "stream",
     "text": [
      "first of all create a repository on your git hub account\n",
      "\n",
      "than open powershell and go to your code folder\n",
      "\n",
      "#\n",
      "#git init --> it initlize your current folder  as a git repository\n",
      "# \n",
      "vim README.md --> overview or discreption of your repository\n",
      "# \n",
      "\n",
      "#git config --global user.name gitusername\n",
      "# \n",
      "\n",
      "#git config --global user.email git email address\n",
      "config command will configure your credentials over git repository and if you\n",
      " used --global it will apply to all repository current or future\n",
      "\n",
      "#\n",
      "#git add . --> it will add all files from current repository\n",
      "#\n",
      "#git status --> staging area, where we can which files are added and which are\n",
      "still to be added at git staging area\n",
      "#\n",
      "#git commit -m \"any message regarding changes\" --> This will create a version\n",
      " for your git repository, every time you commit something you are creating a \n",
      "new version of your code\n",
      "\n",
      "\n",
      "#git remote add origin https://gihub.com/username/project_name.git --> it will\n",
      "link your online repository to offline repository with name origin, so every\n",
      "time you write origin in this current directory meas you are reffering to\n",
      "https://github.com/username/project-name.git\n",
      "\n",
      "\n",
      "#git push origin master --> It will upload all of your local data files to\n",
      "your remote repository ( internet connection required )\n",
      "\n",
      "\n",
      "#git pull origin master --> It will fetch all the changes that has been\n",
      "commited to your directory  \n",
      "\n",
      "\n",
      "#git pull origin masrer --allow-unrelated-histories\n"
     ]
    }
   ],
   "source": [
    "data= f.read()\n",
    "print(data)"
   ]
  },
  {
   "cell_type": "code",
   "execution_count": 24,
   "metadata": {},
   "outputs": [],
   "source": [
    "f.close()"
   ]
  },
  {
   "cell_type": "code",
   "execution_count": 26,
   "metadata": {},
   "outputs": [
    {
     "ename": "ValueError",
     "evalue": "I/O operation on closed file.",
     "output_type": "error",
     "traceback": [
      "\u001b[1;31m---------------------------------------------------------------------------\u001b[0m",
      "\u001b[1;31mValueError\u001b[0m                                Traceback (most recent call last)",
      "\u001b[1;32m<ipython-input-26-571e9fb02258>\u001b[0m in \u001b[0;36m<module>\u001b[1;34m\u001b[0m\n\u001b[1;32m----> 1\u001b[1;33m \u001b[0mf\u001b[0m\u001b[1;33m.\u001b[0m\u001b[0mread\u001b[0m\u001b[1;33m(\u001b[0m\u001b[1;33m)\u001b[0m\u001b[1;33m\u001b[0m\u001b[1;33m\u001b[0m\u001b[0m\n\u001b[0m",
      "\u001b[1;31mValueError\u001b[0m: I/O operation on closed file."
     ]
    }
   ],
   "source": [
    "f.read()"
   ]
  },
  {
   "cell_type": "code",
   "execution_count": 27,
   "metadata": {},
   "outputs": [],
   "source": [
    "file = open('text.txt','w')"
   ]
  },
  {
   "cell_type": "code",
   "execution_count": 28,
   "metadata": {},
   "outputs": [],
   "source": [
    "print('this is file use by me for editing',file=file)\n",
    "file.close()"
   ]
  },
  {
   "cell_type": "code",
   "execution_count": 29,
   "metadata": {},
   "outputs": [],
   "source": [
    "file = open('text.txt','a')"
   ]
  },
  {
   "cell_type": "code",
   "execution_count": 30,
   "metadata": {},
   "outputs": [
    {
     "data": {
      "text/plain": [
       "44"
      ]
     },
     "execution_count": 30,
     "metadata": {},
     "output_type": "execute_result"
    }
   ],
   "source": [
    "file.write('\\nthis is the second line of the current file')"
   ]
  },
  {
   "cell_type": "code",
   "execution_count": 31,
   "metadata": {},
   "outputs": [
    {
     "data": {
      "text/plain": [
       "False"
      ]
     },
     "execution_count": 31,
     "metadata": {},
     "output_type": "execute_result"
    }
   ],
   "source": [
    "file.readable()"
   ]
  },
  {
   "cell_type": "code",
   "execution_count": 32,
   "metadata": {},
   "outputs": [
    {
     "data": {
      "text/plain": [
       "True"
      ]
     },
     "execution_count": 32,
     "metadata": {},
     "output_type": "execute_result"
    }
   ],
   "source": [
    "file.writable()"
   ]
  },
  {
   "cell_type": "code",
   "execution_count": 33,
   "metadata": {},
   "outputs": [],
   "source": [
    "file.close()"
   ]
  },
  {
   "cell_type": "code",
   "execution_count": 34,
   "metadata": {},
   "outputs": [
    {
     "data": {
      "text/plain": [
       "'this is file use by me for editing\\n'"
      ]
     },
     "execution_count": 34,
     "metadata": {},
     "output_type": "execute_result"
    }
   ],
   "source": [
    "f = open('text.txt')\n",
    "f.readline()"
   ]
  },
  {
   "cell_type": "code",
   "execution_count": 35,
   "metadata": {},
   "outputs": [
    {
     "data": {
      "text/plain": [
       "'\\n'"
      ]
     },
     "execution_count": 35,
     "metadata": {},
     "output_type": "execute_result"
    }
   ],
   "source": [
    "f.readline()"
   ]
  },
  {
   "cell_type": "code",
   "execution_count": 36,
   "metadata": {},
   "outputs": [
    {
     "data": {
      "text/plain": [
       "'this is the second line of the current file'"
      ]
     },
     "execution_count": 36,
     "metadata": {},
     "output_type": "execute_result"
    }
   ],
   "source": [
    "f.readline()"
   ]
  },
  {
   "cell_type": "code",
   "execution_count": 37,
   "metadata": {},
   "outputs": [
    {
     "data": {
      "text/plain": [
       "''"
      ]
     },
     "execution_count": 37,
     "metadata": {},
     "output_type": "execute_result"
    }
   ],
   "source": [
    "f.readline()"
   ]
  },
  {
   "cell_type": "code",
   "execution_count": 40,
   "metadata": {},
   "outputs": [
    {
     "data": {
      "text/plain": [
       "0"
      ]
     },
     "execution_count": 40,
     "metadata": {},
     "output_type": "execute_result"
    }
   ],
   "source": [
    "f.seek(0)"
   ]
  },
  {
   "cell_type": "code",
   "execution_count": 41,
   "metadata": {},
   "outputs": [],
   "source": [
    "d = f.readlines()"
   ]
  },
  {
   "cell_type": "code",
   "execution_count": 43,
   "metadata": {},
   "outputs": [
    {
     "data": {
      "text/plain": [
       "'\\n'"
      ]
     },
     "execution_count": 43,
     "metadata": {},
     "output_type": "execute_result"
    }
   ],
   "source": [
    "d.pop(1)"
   ]
  },
  {
   "cell_type": "code",
   "execution_count": 44,
   "metadata": {},
   "outputs": [
    {
     "data": {
      "text/plain": [
       "['this is file use by me for editing\\n',\n",
       " 'this is the second line of the current file']"
      ]
     },
     "execution_count": 44,
     "metadata": {},
     "output_type": "execute_result"
    }
   ],
   "source": [
    "d"
   ]
  },
  {
   "cell_type": "code",
   "execution_count": 45,
   "metadata": {},
   "outputs": [],
   "source": [
    "f.close()"
   ]
  },
  {
   "cell_type": "code",
   "execution_count": 46,
   "metadata": {},
   "outputs": [],
   "source": [
    "file = open('target.txt')"
   ]
  },
  {
   "cell_type": "code",
   "execution_count": 47,
   "metadata": {},
   "outputs": [
    {
     "name": "stdout",
     "output_type": "stream",
     "text": [
      "12\t32\n",
      "34\t45\n",
      "34\t65\n",
      "54\t78\n",
      "34\t67\n",
      "67\t98\n"
     ]
    }
   ],
   "source": [
    "data = file.read()\n",
    "file.close()\n",
    "print(data)"
   ]
  },
  {
   "cell_type": "code",
   "execution_count": 48,
   "metadata": {},
   "outputs": [
    {
     "data": {
      "text/plain": [
       "'12\\t32\\n34\\t45\\n34\\t65\\n54\\t78\\n34\\t67\\n67\\t98'"
      ]
     },
     "execution_count": 48,
     "metadata": {},
     "output_type": "execute_result"
    }
   ],
   "source": [
    "data"
   ]
  },
  {
   "cell_type": "code",
   "execution_count": 56,
   "metadata": {},
   "outputs": [
    {
     "data": {
      "text/plain": [
       "['12\\t32', '34\\t45', '34\\t65', '54\\t78', '34\\t67', '67\\t98']"
      ]
     },
     "execution_count": 56,
     "metadata": {},
     "output_type": "execute_result"
    }
   ],
   "source": [
    "toda = data.split('\\n')\n",
    "toda"
   ]
  },
  {
   "cell_type": "code",
   "execution_count": 58,
   "metadata": {},
   "outputs": [],
   "source": [
    "t = list(map(lambda x : x.split('\\t'),toda))"
   ]
  },
  {
   "cell_type": "code",
   "execution_count": 59,
   "metadata": {},
   "outputs": [
    {
     "data": {
      "text/plain": [
       "[['12', '32'],\n",
       " ['34', '45'],\n",
       " ['34', '65'],\n",
       " ['54', '78'],\n",
       " ['34', '67'],\n",
       " ['67', '98']]"
      ]
     },
     "execution_count": 59,
     "metadata": {},
     "output_type": "execute_result"
    }
   ],
   "source": [
    "t"
   ]
  },
  {
   "cell_type": "code",
   "execution_count": 60,
   "metadata": {},
   "outputs": [
    {
     "data": {
      "text/plain": [
       "['12', '32', '34', '45', '34', '65', '54', '78', '34', '67', '67', '98']"
      ]
     },
     "execution_count": 60,
     "metadata": {},
     "output_type": "execute_result"
    }
   ],
   "source": [
    "u = reduce(lambda x,y : x+y ,t)\n",
    "u"
   ]
  },
  {
   "cell_type": "code",
   "execution_count": 52,
   "metadata": {},
   "outputs": [],
   "source": [
    "from functools import reduce"
   ]
  },
  {
   "cell_type": "code",
   "execution_count": 61,
   "metadata": {},
   "outputs": [
    {
     "data": {
      "text/plain": [
       "[12, 32, 34, 45, 34, 65, 54, 78, 34, 67, 67, 98]"
      ]
     },
     "execution_count": 61,
     "metadata": {},
     "output_type": "execute_result"
    }
   ],
   "source": [
    "b = []\n",
    "for var in u:\n",
    "    b.append(int(var))\n",
    "    \n",
    "b"
   ]
  },
  {
   "cell_type": "code",
   "execution_count": 62,
   "metadata": {},
   "outputs": [
    {
     "data": {
      "text/plain": [
       "620"
      ]
     },
     "execution_count": 62,
     "metadata": {},
     "output_type": "execute_result"
    }
   ],
   "source": [
    "su = reduce(lambda x,y : x+y ,b)\n",
    "su"
   ]
  },
  {
   "cell_type": "code",
   "execution_count": 63,
   "metadata": {},
   "outputs": [],
   "source": [
    "f = open('f.txt','w')"
   ]
  },
  {
   "cell_type": "code",
   "execution_count": 64,
   "metadata": {},
   "outputs": [],
   "source": [
    "f.write('12\\t32\\n32\\t45\\n56\\t76\\n78\\t87\\n')\n",
    "f.close()"
   ]
  },
  {
   "cell_type": "code",
   "execution_count": 65,
   "metadata": {},
   "outputs": [],
   "source": [
    "with open('target.txt') as f:\n",
    "    data = f.read()\n",
    "    f.close()"
   ]
  },
  {
   "cell_type": "code",
   "execution_count": 66,
   "metadata": {},
   "outputs": [
    {
     "data": {
      "text/plain": [
       "'12\\t32\\n34\\t45\\n34\\t65\\n54\\t78\\n34\\t67\\n67\\t98'"
      ]
     },
     "execution_count": 66,
     "metadata": {},
     "output_type": "execute_result"
    }
   ],
   "source": [
    "data"
   ]
  },
  {
   "cell_type": "code",
   "execution_count": 67,
   "metadata": {},
   "outputs": [],
   "source": [
    "with open('table.txt') as f:\n",
    "    data = f.read()\n",
    "    f.close()"
   ]
  },
  {
   "cell_type": "code",
   "execution_count": 68,
   "metadata": {},
   "outputs": [
    {
     "data": {
      "text/plain": [
       "'id\\tname\\tmath\\tscience\\n1\\tajay\\t65\\t56\\n2\\tsid\\t89\\t98\\n3\\tvai\\t56\\t98\\n4\\tnikhil\\t78\\t87'"
      ]
     },
     "execution_count": 68,
     "metadata": {},
     "output_type": "execute_result"
    }
   ],
   "source": [
    "data"
   ]
  },
  {
   "cell_type": "code",
   "execution_count": 69,
   "metadata": {},
   "outputs": [
    {
     "name": "stdout",
     "output_type": "stream",
     "text": [
      "id\tname\tmath\tscience\n",
      "1\tajay\t65\t56\n",
      "2\tsid\t89\t98\n",
      "3\tvai\t56\t98\n",
      "4\tnikhil\t78\t87\n"
     ]
    }
   ],
   "source": [
    "print(data)"
   ]
  },
  {
   "cell_type": "code",
   "execution_count": 70,
   "metadata": {},
   "outputs": [],
   "source": [
    "data = data.split('\\n')"
   ]
  },
  {
   "cell_type": "code",
   "execution_count": 71,
   "metadata": {},
   "outputs": [
    {
     "data": {
      "text/plain": [
       "['id\\tname\\tmath\\tscience',\n",
       " '1\\tajay\\t65\\t56',\n",
       " '2\\tsid\\t89\\t98',\n",
       " '3\\tvai\\t56\\t98',\n",
       " '4\\tnikhil\\t78\\t87']"
      ]
     },
     "execution_count": 71,
     "metadata": {},
     "output_type": "execute_result"
    }
   ],
   "source": [
    "data"
   ]
  },
  {
   "cell_type": "code",
   "execution_count": 72,
   "metadata": {},
   "outputs": [],
   "source": [
    "dat = list(map(lambda string : string.split(),data))"
   ]
  },
  {
   "cell_type": "code",
   "execution_count": 73,
   "metadata": {},
   "outputs": [
    {
     "data": {
      "text/plain": [
       "[['id', 'name', 'math', 'science'],\n",
       " ['1', 'ajay', '65', '56'],\n",
       " ['2', 'sid', '89', '98'],\n",
       " ['3', 'vai', '56', '98'],\n",
       " ['4', 'nikhil', '78', '87']]"
      ]
     },
     "execution_count": 73,
     "metadata": {},
     "output_type": "execute_result"
    }
   ],
   "source": [
    "dat"
   ]
  },
  {
   "cell_type": "code",
   "execution_count": 75,
   "metadata": {},
   "outputs": [
    {
     "name": "stdout",
     "output_type": "stream",
     "text": [
      "id\tname\tmath\tscience\n",
      "1\tajay\t65\t56\n",
      "2\tsid\t89\t98\n",
      "3\tvai\t56\t98\n",
      "4\tnikhil\t78\t87\n"
     ]
    }
   ],
   "source": [
    "for p,q,r,s in dat:\n",
    "    print(p,q,r,s,sep='\\t')"
   ]
  },
  {
   "cell_type": "code",
   "execution_count": null,
   "metadata": {},
   "outputs": [],
   "source": []
  }
 ],
 "metadata": {
  "kernelspec": {
   "display_name": "Python 3",
   "language": "python",
   "name": "python3"
  },
  "language_info": {
   "codemirror_mode": {
    "name": "ipython",
    "version": 3
   },
   "file_extension": ".py",
   "mimetype": "text/x-python",
   "name": "python",
   "nbconvert_exporter": "python",
   "pygments_lexer": "ipython3",
   "version": "3.7.3"
  }
 },
 "nbformat": 4,
 "nbformat_minor": 2
}
