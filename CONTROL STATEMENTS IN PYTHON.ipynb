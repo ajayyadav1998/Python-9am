{
 "cells": [
  {
   "cell_type": "raw",
   "metadata": {},
   "source": [
    "if True :\n",
    "    print('condition 1 is true')\n",
    "elif True:\n",
    "    print('condition 2 is true')\n",
    "else: \n",
    "    print('above all conditions are false')"
   ]
  },
  {
   "cell_type": "code",
   "execution_count": 2,
   "metadata": {},
   "outputs": [
    {
     "name": "stdout",
     "output_type": "stream",
     "text": [
      "this condition is truue\n"
     ]
    }
   ],
   "source": [
    "if True:\n",
    "    print('this condition is truue')\n",
    "else:\n",
    "    print('condition is false')"
   ]
  },
  {
   "cell_type": "code",
   "execution_count": 5,
   "metadata": {},
   "outputs": [
    {
     "name": "stdout",
     "output_type": "stream",
     "text": [
      "above all conditions are false\n"
     ]
    }
   ],
   "source": [
    "if 0 :\n",
    "    print('condition 1 is true')\n",
    "elif 0:\n",
    "    print('condition 2 is true')\n",
    "else: \n",
    "    print('above all conditions are false')"
   ]
  },
  {
   "cell_type": "code",
   "execution_count": 11,
   "metadata": {},
   "outputs": [
    {
     "name": "stdout",
     "output_type": "stream",
     "text": [
      "enter the number : 20\n",
      "given no. is even\n"
     ]
    }
   ],
   "source": [
    "a = int(input('enter the number : '))\n",
    "if a % 2 ==0 :\n",
    "    print('given no. is even')\n",
    "else:\n",
    "    print('given no. is odd')"
   ]
  },
  {
   "cell_type": "code",
   "execution_count": 15,
   "metadata": {},
   "outputs": [
    {
     "name": "stdout",
     "output_type": "stream",
     "text": [
      "enter foo / bar :     B   A   r\n",
      "foo\n"
     ]
    }
   ],
   "source": [
    "a = input('enter foo / bar : ').replace(' ','').lower()\n",
    "\n",
    "if a == 'foo':\n",
    "    print('bar')\n",
    "elif a == 'bar':\n",
    "    print('foo')\n",
    "else:\n",
    "    print('foo|bar')"
   ]
  },
  {
   "cell_type": "code",
   "execution_count": 18,
   "metadata": {},
   "outputs": [
    {
     "name": "stdout",
     "output_type": "stream",
     "text": [
      "enter foo /bar : dofjdofiemf     \n",
      "foo | bar\"\n"
     ]
    }
   ],
   "source": [
    "a = input('enter foo /bar : ').strip().lower()\n",
    "a = ''.join(a.split())\n",
    "\n",
    "if a == 'foo':\n",
    "    print('bar')\n",
    "elif a == 'bar':\n",
    "    print('foo')\n",
    "else:\n",
    "    print('foo | bar\"')"
   ]
  },
  {
   "cell_type": "code",
   "execution_count": 30,
   "metadata": {},
   "outputs": [
    {
     "name": "stdout",
     "output_type": "stream",
     "text": [
      "enter a number : 25\n",
      "plz give valid input\n"
     ]
    }
   ],
   "source": [
    "a = ['jan','feb','mar','apr','may','june','july','aug','sept','oct','nov','dec']\n",
    "\n",
    "num = int(input('enter a number : '))\n",
    "if num >=1  and  num <= 12:\n",
    "    print('the below months are :',*a[:num-1])\n",
    "    print('the given month is :',a[num-1])\n",
    "    print('the above months are :',*a[num:])\n",
    "else:\n",
    "    print('plz give valid input')"
   ]
  },
  {
   "cell_type": "code",
   "execution_count": 5,
   "metadata": {},
   "outputs": [
    {
     "name": "stdout",
     "output_type": "stream",
     "text": [
      "['jan', 'feb', 'mar', 'apr', 'may', 'june', 'july', 'aug', 'sept', 'oct', 'nov', 'dec']\n"
     ]
    }
   ],
   "source": [
    "print(a)"
   ]
  },
  {
   "cell_type": "code",
   "execution_count": 6,
   "metadata": {},
   "outputs": [
    {
     "name": "stdout",
     "output_type": "stream",
     "text": [
      "jan feb mar apr may june july aug sept oct nov dec\n"
     ]
    }
   ],
   "source": [
    "print(*a)"
   ]
  },
  {
   "cell_type": "code",
   "execution_count": 7,
   "metadata": {},
   "outputs": [
    {
     "name": "stdout",
     "output_type": "stream",
     "text": [
      "jan feb mar apr may june july aug sept oct nov dec "
     ]
    }
   ],
   "source": [
    "for var in a:\n",
    "    print(var,end=' ')"
   ]
  },
  {
   "cell_type": "code",
   "execution_count": 33,
   "metadata": {},
   "outputs": [
    {
     "name": "stdout",
     "output_type": "stream",
     "text": [
      "enter a number for square :5\n",
      "The square of given number is :  25\n",
      "press any thing to continue :6\n",
      "enter a number for square :3\n",
      "The square of given number is :  9\n",
      "press any thing to continue :33\n",
      "enter a number for square :3\n",
      "The square of given number is :  9\n",
      "press any thing to continue :33\n",
      "enter a number for square :3333\n",
      "The square of given number is :  11108889\n",
      "press any thing to continue :\n",
      "i am useless......!!!\n"
     ]
    }
   ],
   "source": []
  },
  {
   "cell_type": "code",
   "execution_count": 2,
   "metadata": {},
   "outputs": [
    {
     "name": "stdout",
     "output_type": "stream",
     "text": [
      "enter your age : 19\n",
      "sir,plz enter your job proffesion.\n",
      "1.Government\n",
      "2.Private \n",
      "1\n",
      "you have higher chances for the loan \n"
     ]
    }
   ],
   "source": [
    "age=  int(input('enter your age : '))\n",
    "if age <= 18:\n",
    "    print('you are not eligible for the loan ')\n",
    "else:\n",
    "    print('sir,plz enter your job proffesion.\\n1.Government\\n2.Private ')\n",
    "    num = int(input())\n",
    "    if num == 1:\n",
    "        print('you have higher chances for the loan ')\n",
    "    else:\n",
    "        print('you have lower chances for the loan')"
   ]
  },
  {
   "cell_type": "code",
   "execution_count": null,
   "metadata": {},
   "outputs": [],
   "source": []
  }
 ],
 "metadata": {
  "kernelspec": {
   "display_name": "Python 3",
   "language": "python",
   "name": "python3"
  },
  "language_info": {
   "codemirror_mode": {
    "name": "ipython",
    "version": 3
   },
   "file_extension": ".py",
   "mimetype": "text/x-python",
   "name": "python",
   "nbconvert_exporter": "python",
   "pygments_lexer": "ipython3",
   "version": "3.7.3"
  }
 },
 "nbformat": 4,
 "nbformat_minor": 2
}
